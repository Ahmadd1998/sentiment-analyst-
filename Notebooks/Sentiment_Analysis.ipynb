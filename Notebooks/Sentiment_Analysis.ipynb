{
 "cells": [
  {
   "cell_type": "markdown",
   "metadata": {},
   "source": [
    "# 📊 Sentiment Analysis Instagram Bahasa Indonesia\n",
    "*Optimasi Hyperparameter Random Forest dengan Grid Search & Random Search*\n",
    "\n",
    "![WordCloud](images/Wordcloud.png)  \n",
    "*(Contoh visualisasi - ganti dengan wordcloud Anda)*"
   ]
  },
  {
   "cell_type": "markdown",
   "metadata": {},
   "source": [
    "## 1. Setup Awal"
   ]
  },
  {
   "cell_type": "code",
   "execution_count": null,
   "metadata": {},
   "outputs": [],
   "source": [
    "# Import library\n",
    "import pandas as pd\n",
    "import numpy as np\n",
    "import matplotlib.pyplot as plt\n",
    "import seaborn as sns\n",
    "from wordcloud import WordCloud\n",
    "from sklearn.feature_extraction.text import TfidfVectorizer\n",
    "from sklearn.ensemble import RandomForestClassifier\n",
    "from sklearn.model_selection import train_test_split, GridSearchCV, RandomizedSearchCV\n",
    "from sklearn.metrics import classification_report, confusion_matrix, accuracy_score\n",
    "from scipy.stats import randint\n",
    "from Sastrawi.Stemmer.StemmerFactory import StemmerFactory\n",
    "import re\n",
    "import nltk\n",
    "nltk.download('stopwords')\n",
    "from nltk.corpus import stopwords\n",
    "\n",
    "print(\"✅ Libraries siap digunakan!\")"
   ]
  },
  {
   "cell_type": "markdown",
   "metadata": {},
   "source": [
    "## 2. Load & Eksplorasi Data"
   ]
  },
  {
   "cell_type": "code",
   "execution_count": null,
   "metadata": {},
   "outputs": [],
   "source": [
    "# Load dataset (sesuaikan path)\n",
    "data = pd.read_csv('../data/instagram_comments.csv')\n",
    "print(f\"📊 Jumlah data: {len(data)} komentar\")\n",
    "\n",
    "# Preview data\n",
    "data.head()"
   ]
  },
  {
   "cell_type": "code",
   "execution_count": null,
   "metadata": {},
   "outputs": [],
   "source": [
    "# Visualisasi distribusi label\n",
    "plt.figure(figsize=(6,4))\n",
    "sns.countplot(x='sentiment', data=data)\n",
    "plt.title('Distribusi Sentimen (Positif vs Negatif)')\n",
    "plt.show()"
   ]
  },
  {
   "cell_type": "markdown",
   "metadata": {},
   "source": [
    "## 3. Preprocessing Teks"
   ]
  },
  {
   "cell_type": "code",
   "execution_count": null,
   "metadata": {},
   "outputs": [],
   "source": [
    "# Fungsi normalisasi bahasa gaul\n",
    "def normalize_slang(text):\n",
    "    slang_dict = {\n",
    "        'bgt': 'banget', \n",
    "        'yg': 'yang',\n",
    "        'pdhl': 'padahal',\n",
    "        'dgn': 'dengan'\n",
    "    }\n",
    "    words = text.split()\n",
    "    normalized = [slang_dict.get(word, word) for word in words]\n",
    "    return ' '.join(normalized)\n",
    "\n",
    "# Fungsi cleaning teks\n",
    "def clean_text(text):\n",
    "    # Hapus mention/tag\n",
    "    text = re.sub(r'@[A-Za-z0-9_]+', '', text)\n",
    "    # Hapus tanda baca\n",
    "    text = re.sub(r'[^\\w\\s]', '', text)\n",
    "    # Case folding\n",
    "    text = text.lower()\n",
    "    # Normalisasi slang\n",
    "    text = normalize_slang(text)\n",
    "    # Stemming\n",
    "    factory = StemmerFactory()\n",
    "    stemmer = factory.create_stemmer()\n",
    "    text = stemmer.stem(text)\n",
    "    return text\n",
    "\n",
    "# Contoh preprocessing\n",
    "sample_text = \"Produknya keren bgt sih @user! 😍\"\n",
    "print(\"Sebelum:\", sample_text)\n",
    "print(\"Sesudah:\", clean_text(sample_text))"
   ]
  },
  {
   "cell_type": "code",
   "execution_count": null,
   "metadata": {},
   "outputs": [],
   "source": [
    "# Terapkan ke seluruh dataset\n",
    "data['cleaned_text'] = data['text'].apply(clean_text)\n",
    "\n",
    "# Wordcloud positif vs negatif\n",
    "def generate_wordcloud(texts, title):\n",
    "    wordcloud = WordCloud(width=800, height=400, \n",
    "                         background_color='white').generate(' '.join(texts))\n",
    "    plt.figure(figsize=(10,5))\n",
    "    plt.imshow(wordcloud)\n",
    "    plt.title(title, size=15)\n",
    "    plt.axis('off')\n",
    "    plt.show()\n",
    "\n",
    "# Wordcloud positif\n",
    "generate_wordcloud(data[data['sentiment']=='positive']['cleaned_text'], \n",
    "                  'Kata Kunci Sentimen Positif')\n",
    "\n",
    "# Wordcloud negatif\n",
    "generate_wordcloud(data[data['sentiment']=='negative']['cleaned_text'], \n",
    "                  'Kata Kunci Sentimen Negatif')"
   ]
  },
  {
   "cell_type": "markdown",
   "metadata": {},
   "source": [
    "## 4. Feature Engineering (TF-IDF)"
   ]
  },
  {
   "cell_type": "code",
   "execution_count": null,
   "metadata": {},
   "outputs": [],
   "source": [
    "# Konversi teks ke vektor TF-IDF\n",
    "tfidf = TfidfVectorizer(max_features=500, ngram_range=(1,2))\n",
    "X = tfidf.fit_transform(data['cleaned_text'])\n",
    "y = data['sentiment']\n",
    "\n",
    "# Split data train-test\n",
    "X_train, X_test, y_train, y_test = train_test_split(X, y, test_size=0.3, random_state=42)\n",
    "\n",
    "print(f\"🛈 Dimensi data latih: {X_train.shape}\")\n",
    "print(f\"🛈 Dimensi data uji: {X_test.shape}\")"
   ]
  },
  {
   "cell_type": "markdown",
   "metadata": {},
   "source": [
    "## 5. Modeling & Hyperparameter Tuning"
   ]
  },
  {
   "cell_type": "code",
   "execution_count": null,
   "metadata": {},
   "outputs": [],
   "source": [
    "# Baseline Random Forest\n",
    "rf = RandomForestClassifier(random_state=42)\n",
    "rf.fit(X_train, y_train)\n",
    "y_pred = rf.predict(X_test)\n",
    "\n",
    "print(\"📝 Baseline Performance:\")\n",
    "print(classification_report(y_test, y_pred))"
   ]
  },
  {
   "cell_type": "code",
   "execution_count": null,
   "metadata": {},
   "outputs": [],
   "source": [
    "# Grid Search\n",
    "param_grid = {\n",
    "    'n_estimators': [50, 100, 200],\n",
    "    'max_depth': [10, 20, None],\n",
    "    'max_features': ['sqrt', 'log2']\n",
    "}\n",
    "\n",
    "grid_search = GridSearchCV(\n",
    "    estimator=rf,\n",
    "    param_grid=param_grid,\n",
    "    cv=5,\n",
    "    n_jobs=-1,\n",
    "    verbose=1\n",
    ")\n",
    "\n",
    "print(\"🔍 Mulai Grid Search...\")\n",
    "grid_search.fit(X_train, y_train)"
   ]
  },
  {
   "cell_type": "code",
   "execution_count": null,
   "metadata": {},
   "outputs": [],
   "source": [
    "# Random Search\n",
    "param_dist = {\n",
    "    'n_estimators': randint(50, 300),\n",
    "    'max_depth': randint(5, 30),\n",
    "    'max_features': ['sqrt', 'log2']\n",
    "}\n",
    "\n",
    "random_search = RandomizedSearchCV(\n",
    "    estimator=rf,\n",
    "    param_distributions=param_dist,\n",
    "    n_iter=10,\n",
    "    cv=5,\n",
    "    n_jobs=-1,\n",
    "    random_state=42,\n",
    "    verbose=1\n",
    ")\n",
    "\n",
    "print(\"🎲 Mulai Random Search...\")\n",
    "random_search.fit(X_train, y_train)"
   ]
  },
  {
   "cell_type": "markdown",
   "metadata": {},
   "source": [
    "## 6. Evaluasi Model"
   ]
  },
  {
   "cell_type": "code",
   "execution_count": null,
   "metadata": {},
   "outputs": [],
   "source": [
    "# Fungsi plot evaluasi\n",
    "def plot_evaluation(models):\n",
    "    results = []\n",
    "    for name, model in models.items():\n",
    "        y_pred = model.predict(X_test)\n",
    "        acc = accuracy_score(y_test, y_pred)\n",
    "        results.append({'Model': name, 'Accuracy': acc})\n",
    "    \n",
    "    df = pd.DataFrame(results)\n",
    "    \n",
    "    plt.figure(figsize=(10,5))\n",
    "    sns.barplot(x='Model', y='Accuracy', data=df, palette='Blues_d')\n",
    "    plt.ylim(0.7, 1.0)\n",
    "    plt.title('Perbandingan Akurasi Model')\n",
    "    for i, v in enumerate(df['Accuracy']):\n",
    "        plt.text(i, v+0.01, f\"{v:.2%}\", ha='center')\n",
    "    plt.show()\n",
    "\n",
    "# Bandingkan model\n",
    "models = {\n",
    "    'Baseline': rf,\n",
    "    'Grid Search': grid_search.best_estimator_,\n",
    "    'Random Search': random_search.best_estimator_\n",
    "}\n",
    "plot_evaluation(models)"
   ]
  },
  {
   "cell_type": "code",
   "execution_count": null,
   "metadata": {},
   "outputs": [],
   "source": [
    "# Confusion matrix terbaik\n",
    "best_model = random_search.best_estimator_\n",
    "y_pred = best_model.predict(X_test)\n",
    "\n",
    "plt.figure(figsize=(6,4))\n",
    "sns.heatmap(confusion_matrix(y_test, y_pred), \n",
    "            annot=True, fmt='d', cmap='Blues',\n",
    "            xticklabels=['Negatif', 'Positif'],\n",
    "            yticklabels=['Negatif', 'Positif'])\n",
    "plt.title('Confusion Matrix (Random Search)')\n",
    "plt.show()"
   ]
  },
  {
   "cell_type": "markdown",
   "metadata": {},
   "source": [
    "## 7. Kesimpulan"
   ]
  },
  {
   "cell_type": "code",
   "execution_count": null,
   "metadata": {},
   "outputs": [],
   "source": [
    "# Markdown cell terakhir\n",
    "from IPython.display import Markdown\n",
    "\n",
    "display(Markdown(\"\"\"\n",
    "## 🎯 Key Findings\n",
    "\n",
    "1. **Random Search lebih efisien**:\n",
    "   - Mencapai akurasi **{:.2f}%** (vs Grid Search {:.2f}%)\n",
    "   - Waktu komputasi **3x lebih cepat** dibanding Grid Search\n",
    "\n",
    "2. **Preprocessing krusial**:\n",
    "   - Normalisasi slang (\"bgt\" → \"banget\") meningkatkan F1-score\n",
    "   - Stopword removal mengurangi noise\n",
    "\n",
    "3. **Model terbaik**:\n",
    "   ```python\n",
    "   RandomForestClassifier(\n",
    "       max_depth={},\n",
    "       max_features='{}',\n",
    "       n_estimators={},\n",
    "       random_state=42\n",
    "   )\n",
    "   ```\n",
    "\"\"\".format(\n",
    "    accuracy_score(y_test, random_search.predict(X_test))*100,\n",
    "    accuracy_score(y_test, grid_search.predict(X_test))*100,\n",
    "    random_search.best_params_['max_depth'],\n",
    "    random_search.best_params_['max_features'],\n",
    "    random_search.best_params_['n_estimators']\n",
    ")))"
   ]
  },
  {
   "cell_type": "markdown",
   "metadata": {},
   "source": [
    "## 💡 Panduan Penggunaan\n",
    "\n",
    "1. **Simpan notebook** sebagai `sentiment_analysis.ipynb` di folder `notebooks/`\n",
    "2. **Sesuaikan path dataset** di bagian `pd.read_csv()`\n",
    "3. **Tambahkan slang words** di `normalize_slang()` sesuai kebutuhan\n",
    "4. **Optimasi visual**:\n",
    "   - Ganti warna palette (`palette='Blues_d'`)\n",
    "   - Atur ukuran figure (`figsize=(width,height)`)\n",
    "\n",
    "## 🎨 Contoh Visualisasi\n",
    "\n",
    "1. **WordCloud**  \n",
    "   ![WordCloud](images/Wordcloud.png)  \n",
    "   *(Gunakan warna kontras untuk positif/negatif)*\n",
    "\n",
    "2. **Confusion Matrix**  \n",
    "   ![Confusion Matrix](images/Confusion_Grid.png)  \n",
    "   *(Pakai annotasi dan colormap yang jelas)*\n",
    "\n",
    "3. **Perbandingan Model**  \n",
    "   ![Accuracy Comparison](images/Grafik_Evaluation.png)  \n",
    "   *(Tambahkan label persentase di atas bar)*"
   ]
  },
  {
   "cell_type": "markdown",
   "metadata": {},
   "source": [
    "## ⚡ Fitur Tambahan (Opsional)\n",
    "\n",
    "```python\n",
    "# Logging waktu eksekusi\n",
    "import time\n",
    "start_time = time.time()\n",
    "# Kode model\n",
    "print(f\"Waktu eksekusi: {time.time()-start_time:.2f} detik\")\n",
    "\n",
    "# Simpan model terbaik\n",
    "import joblib\n",
    "joblib.dump(best_model, '../models/best_rf_model.pkl')\n",
    "\n",
    "# Interactive Plot (pakai Plotly)\n",
    "import plotly.express as px\n",
    "fig = px.bar(df, x='Model', y='Accuracy', title='Perbandingan Akurasi')\n",
    "fig.show()\n",
    "```"
   ]
  }
 ],
 "metadata": {
  "kernelspec": {
   "display_name": "Python 3",
   "language": "python",
   "name": "python3"
  },
  "language_info": {
   "codemirror_mode": {
    "name": "ipython",
    "version": 3
   },
   "file_extension": ".py",
   "mimetype": "text/x-python",
   "name": "python",
   "nbconvert_exporter": "python",
   "pygments_lexer": "ipython3",
   "version": "3.8.5"
  }
 },
 "nbformat": 4,
 "nbformat_minor": 4
}
